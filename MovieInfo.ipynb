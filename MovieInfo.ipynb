{
  "nbformat": 4,
  "nbformat_minor": 0,
  "metadata": {
    "colab": {
      "provenance": []
    },
    "kernelspec": {
      "name": "python3",
      "display_name": "Python 3"
    },
    "language_info": {
      "name": "python"
    }
  },
  "cells": [
    {
      "cell_type": "code",
      "execution_count": null,
      "metadata": {
        "id": "hgTP_hy9PM5r"
      },
      "outputs": [],
      "source": [
        "import requests\n",
        "\n",
        "# Replace 'your_api_key' with your actual TMDb API key\n",
        "api_key = 'f83f0d51a8d82ccde75419e949359674'\n",
        "base_url = 'https://api.themoviedb.org/3/search/movie'\n",
        "\n",
        "# Function to search for movies\n",
        "def search_movies(query):\n",
        "    params = {\n",
        "        'api_key': api_key,\n",
        "        'query': query\n",
        "    }\n",
        "    response = requests.get(base_url, params=params)\n",
        "    data = response.json()\n",
        "    return data['results']\n",
        "\n",
        "# Call the function\n",
        "Query = input(\"Print here: \")\n",
        "search_results = search_movies(Query)\n",
        "k=0\n",
        "for movie in search_results:\n",
        "    k+=1\n",
        "    print(f\"{k}. ---> {movie['release_date']}: {movie['title']}:  {movie['overview']} \")\n",
        ""
      ]
    },
    {
      "cell_type": "code",
      "source": [],
      "metadata": {
        "id": "V7hdZZAIPSg_"
      },
      "execution_count": null,
      "outputs": []
    }
  ]
}